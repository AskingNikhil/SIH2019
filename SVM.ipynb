{
 "cells": [
  {
   "cell_type": "code",
   "execution_count": 1,
   "metadata": {},
   "outputs": [],
   "source": [
    "import pandas as pd\n",
    "import numpy as np\n",
    "import matplotlib.pyplot as plt\n",
    "import seaborn as sns\n",
    "import requests,json\n",
    "%matplotlib inline"
   ]
  },
  {
   "cell_type": "code",
   "execution_count": null,
   "metadata": {},
   "outputs": [],
   "source": [
    "df = pd.read_csv(r\"C:\\Users\\Comp\\experiment_01.csv\")\n",
    "df.head()"
   ]
  },
  {
   "cell_type": "code",
   "execution_count": 3,
   "metadata": {},
   "outputs": [],
   "source": [
    "from sklearn.preprocessing import StandardScaler"
   ]
  },
  {
   "cell_type": "code",
   "execution_count": 4,
   "metadata": {},
   "outputs": [],
   "source": [
    "scaler = StandardScaler()"
   ]
  },
  {
   "cell_type": "code",
   "execution_count": 5,
   "metadata": {},
   "outputs": [
    {
     "data": {
      "text/plain": [
       "StandardScaler(copy=True, with_mean=True, with_std=True)"
      ]
     },
     "execution_count": 5,
     "metadata": {},
     "output_type": "execute_result"
    }
   ],
   "source": [
    "scaler.fit(df.drop('Machining_Process',axis=1))"
   ]
  },
  {
   "cell_type": "code",
   "execution_count": 6,
   "metadata": {},
   "outputs": [
    {
     "data": {
      "text/plain": [
       "StandardScaler(copy=True, with_mean=True, with_std=True)"
      ]
     },
     "execution_count": 6,
     "metadata": {},
     "output_type": "execute_result"
    }
   ],
   "source": [
    "scaler.fit(df.drop('Machining_Process',axis=1))"
   ]
  },
  {
   "cell_type": "code",
   "execution_count": 7,
   "metadata": {},
   "outputs": [
    {
     "data": {
      "text/plain": [
       "array([[ 5.53436751,  0.08767454, -0.04119   , ...,  0.        ,\n",
       "        -1.61774222,  3.93501906],\n",
       "       [ 5.53436751, -1.75122485, -3.43100195, ...,  0.        ,\n",
       "        -1.51686044,  3.93501906],\n",
       "       [ 5.29375275, -2.94310409, -0.10172236, ...,  0.        ,\n",
       "        -1.4411991 ,  3.93501906],\n",
       "       ...,\n",
       "       [-1.3231531 ,  0.05787756, -0.88864299, ...,  0.        ,\n",
       "         1.71135669,  3.93501906],\n",
       "       [-1.3231531 ,  0.11321481,  0.80626299, ...,  0.        ,\n",
       "         1.71135669,  3.93501906],\n",
       "       [-1.3231531 ,  0.11747152,  0.86631108, ...,  0.        ,\n",
       "         1.71135669,  3.93501906]])"
      ]
     },
     "execution_count": 7,
     "metadata": {},
     "output_type": "execute_result"
    }
   ],
   "source": [
    "scaled_features = scaler.transform(df.drop('Machining_Process',axis=1))\n",
    "scaled_features"
   ]
  },
  {
   "cell_type": "code",
   "execution_count": 8,
   "metadata": {},
   "outputs": [
    {
     "data": {
      "text/html": [
       "<div>\n",
       "<style scoped>\n",
       "    .dataframe tbody tr th:only-of-type {\n",
       "        vertical-align: middle;\n",
       "    }\n",
       "\n",
       "    .dataframe tbody tr th {\n",
       "        vertical-align: top;\n",
       "    }\n",
       "\n",
       "    .dataframe thead th {\n",
       "        text-align: right;\n",
       "    }\n",
       "</style>\n",
       "<table border=\"1\" class=\"dataframe\">\n",
       "  <thead>\n",
       "    <tr style=\"text-align: right;\">\n",
       "      <th></th>\n",
       "      <th>X1_ActualPosition</th>\n",
       "      <th>X1_ActualVelocity</th>\n",
       "      <th>X1_ActualAcceleration</th>\n",
       "      <th>X1_CommandPosition</th>\n",
       "      <th>X1_CommandVelocity</th>\n",
       "      <th>X1_CommandAcceleration</th>\n",
       "      <th>X1_CurrentFeedback</th>\n",
       "      <th>X1_DCBusVoltage</th>\n",
       "      <th>X1_OutputCurrent</th>\n",
       "      <th>X1_OutputVoltage</th>\n",
       "      <th>...</th>\n",
       "      <th>S1_CommandAcceleration</th>\n",
       "      <th>S1_CurrentFeedback</th>\n",
       "      <th>S1_DCBusVoltage</th>\n",
       "      <th>S1_OutputCurrent</th>\n",
       "      <th>S1_OutputVoltage</th>\n",
       "      <th>S1_OutputPower</th>\n",
       "      <th>S1_SystemInertia</th>\n",
       "      <th>M1_CURRENT_PROGRAM_NUMBER</th>\n",
       "      <th>M1_sequence_number</th>\n",
       "      <th>M1_CURRENT_FEEDRATE</th>\n",
       "    </tr>\n",
       "  </thead>\n",
       "  <tbody>\n",
       "    <tr>\n",
       "      <th>0</th>\n",
       "      <td>5.534368</td>\n",
       "      <td>0.087675</td>\n",
       "      <td>-0.041190</td>\n",
       "      <td>5.538777</td>\n",
       "      <td>0.087939</td>\n",
       "      <td>-0.000925</td>\n",
       "      <td>0.114051</td>\n",
       "      <td>-2.016592</td>\n",
       "      <td>5.418415</td>\n",
       "      <td>-1.257412</td>\n",
       "      <td>...</td>\n",
       "      <td>-0.069007</td>\n",
       "      <td>-3.628983</td>\n",
       "      <td>-4.171734</td>\n",
       "      <td>3.318274</td>\n",
       "      <td>-5.612544</td>\n",
       "      <td>-4.643695</td>\n",
       "      <td>0.0</td>\n",
       "      <td>0.0</td>\n",
       "      <td>-1.617742</td>\n",
       "      <td>3.935019</td>\n",
       "    </tr>\n",
       "    <tr>\n",
       "      <th>1</th>\n",
       "      <td>5.534368</td>\n",
       "      <td>-1.751225</td>\n",
       "      <td>-3.431002</td>\n",
       "      <td>5.538777</td>\n",
       "      <td>-2.229522</td>\n",
       "      <td>-4.405549</td>\n",
       "      <td>-2.131451</td>\n",
       "      <td>3.456409</td>\n",
       "      <td>3.684062</td>\n",
       "      <td>1.975154</td>\n",
       "      <td>...</td>\n",
       "      <td>-0.069007</td>\n",
       "      <td>-3.776432</td>\n",
       "      <td>-4.171734</td>\n",
       "      <td>2.941765</td>\n",
       "      <td>-5.612544</td>\n",
       "      <td>-4.643728</td>\n",
       "      <td>0.0</td>\n",
       "      <td>0.0</td>\n",
       "      <td>-1.516860</td>\n",
       "      <td>3.935019</td>\n",
       "    </tr>\n",
       "    <tr>\n",
       "      <th>2</th>\n",
       "      <td>5.293753</td>\n",
       "      <td>-2.943104</td>\n",
       "      <td>-0.101722</td>\n",
       "      <td>5.297965</td>\n",
       "      <td>-2.962249</td>\n",
       "      <td>-0.000926</td>\n",
       "      <td>-1.663301</td>\n",
       "      <td>1.933372</td>\n",
       "      <td>3.684062</td>\n",
       "      <td>3.124581</td>\n",
       "      <td>...</td>\n",
       "      <td>-0.069007</td>\n",
       "      <td>-3.628983</td>\n",
       "      <td>-4.171734</td>\n",
       "      <td>2.941765</td>\n",
       "      <td>-5.612544</td>\n",
       "      <td>-4.643689</td>\n",
       "      <td>0.0</td>\n",
       "      <td>0.0</td>\n",
       "      <td>-1.441199</td>\n",
       "      <td>3.935019</td>\n",
       "    </tr>\n",
       "    <tr>\n",
       "      <th>3</th>\n",
       "      <td>5.053138</td>\n",
       "      <td>-2.977158</td>\n",
       "      <td>-0.041190</td>\n",
       "      <td>5.057154</td>\n",
       "      <td>-2.962249</td>\n",
       "      <td>-0.000926</td>\n",
       "      <td>-1.160697</td>\n",
       "      <td>1.602277</td>\n",
       "      <td>1.949709</td>\n",
       "      <td>3.077344</td>\n",
       "      <td>...</td>\n",
       "      <td>-0.069007</td>\n",
       "      <td>-3.756820</td>\n",
       "      <td>-4.171734</td>\n",
       "      <td>2.941765</td>\n",
       "      <td>-5.612544</td>\n",
       "      <td>-4.643685</td>\n",
       "      <td>0.0</td>\n",
       "      <td>0.0</td>\n",
       "      <td>-1.441199</td>\n",
       "      <td>3.935019</td>\n",
       "    </tr>\n",
       "    <tr>\n",
       "      <th>4</th>\n",
       "      <td>4.932831</td>\n",
       "      <td>-2.960131</td>\n",
       "      <td>-0.223271</td>\n",
       "      <td>4.816342</td>\n",
       "      <td>-2.962249</td>\n",
       "      <td>-0.000924</td>\n",
       "      <td>-1.077605</td>\n",
       "      <td>1.072525</td>\n",
       "      <td>3.684062</td>\n",
       "      <td>3.108835</td>\n",
       "      <td>...</td>\n",
       "      <td>-0.069007</td>\n",
       "      <td>-3.683096</td>\n",
       "      <td>-4.171734</td>\n",
       "      <td>2.941765</td>\n",
       "      <td>-5.612544</td>\n",
       "      <td>-4.643661</td>\n",
       "      <td>0.0</td>\n",
       "      <td>0.0</td>\n",
       "      <td>-1.441199</td>\n",
       "      <td>3.935019</td>\n",
       "    </tr>\n",
       "  </tbody>\n",
       "</table>\n",
       "<p>5 rows × 47 columns</p>\n",
       "</div>"
      ],
      "text/plain": [
       "   X1_ActualPosition  X1_ActualVelocity  X1_ActualAcceleration  \\\n",
       "0           5.534368           0.087675              -0.041190   \n",
       "1           5.534368          -1.751225              -3.431002   \n",
       "2           5.293753          -2.943104              -0.101722   \n",
       "3           5.053138          -2.977158              -0.041190   \n",
       "4           4.932831          -2.960131              -0.223271   \n",
       "\n",
       "   X1_CommandPosition  X1_CommandVelocity  X1_CommandAcceleration  \\\n",
       "0            5.538777            0.087939               -0.000925   \n",
       "1            5.538777           -2.229522               -4.405549   \n",
       "2            5.297965           -2.962249               -0.000926   \n",
       "3            5.057154           -2.962249               -0.000926   \n",
       "4            4.816342           -2.962249               -0.000924   \n",
       "\n",
       "   X1_CurrentFeedback  X1_DCBusVoltage  X1_OutputCurrent  X1_OutputVoltage  \\\n",
       "0            0.114051        -2.016592          5.418415         -1.257412   \n",
       "1           -2.131451         3.456409          3.684062          1.975154   \n",
       "2           -1.663301         1.933372          3.684062          3.124581   \n",
       "3           -1.160697         1.602277          1.949709          3.077344   \n",
       "4           -1.077605         1.072525          3.684062          3.108835   \n",
       "\n",
       "          ...           S1_CommandAcceleration  S1_CurrentFeedback  \\\n",
       "0         ...                        -0.069007           -3.628983   \n",
       "1         ...                        -0.069007           -3.776432   \n",
       "2         ...                        -0.069007           -3.628983   \n",
       "3         ...                        -0.069007           -3.756820   \n",
       "4         ...                        -0.069007           -3.683096   \n",
       "\n",
       "   S1_DCBusVoltage  S1_OutputCurrent  S1_OutputVoltage  S1_OutputPower  \\\n",
       "0        -4.171734          3.318274         -5.612544       -4.643695   \n",
       "1        -4.171734          2.941765         -5.612544       -4.643728   \n",
       "2        -4.171734          2.941765         -5.612544       -4.643689   \n",
       "3        -4.171734          2.941765         -5.612544       -4.643685   \n",
       "4        -4.171734          2.941765         -5.612544       -4.643661   \n",
       "\n",
       "   S1_SystemInertia  M1_CURRENT_PROGRAM_NUMBER  M1_sequence_number  \\\n",
       "0               0.0                        0.0           -1.617742   \n",
       "1               0.0                        0.0           -1.516860   \n",
       "2               0.0                        0.0           -1.441199   \n",
       "3               0.0                        0.0           -1.441199   \n",
       "4               0.0                        0.0           -1.441199   \n",
       "\n",
       "   M1_CURRENT_FEEDRATE  \n",
       "0             3.935019  \n",
       "1             3.935019  \n",
       "2             3.935019  \n",
       "3             3.935019  \n",
       "4             3.935019  \n",
       "\n",
       "[5 rows x 47 columns]"
      ]
     },
     "execution_count": 8,
     "metadata": {},
     "output_type": "execute_result"
    }
   ],
   "source": [
    "df_feat = pd.DataFrame(scaled_features,columns=df.columns[:-1])\n",
    "df_feat.head()"
   ]
  },
  {
   "cell_type": "code",
   "execution_count": 72,
   "metadata": {},
   "outputs": [],
   "source": [
    "from sklearn.model_selection import train_test_split"
   ]
  },
  {
   "cell_type": "code",
   "execution_count": 73,
   "metadata": {},
   "outputs": [],
   "source": [
    "X_train, X_test, y_train, y_test = train_test_split(scaled_features,df['Machining_Process'],\n",
    "                                                    test_size=0.30)"
   ]
  },
  {
   "cell_type": "code",
   "execution_count": 74,
   "metadata": {},
   "outputs": [],
   "source": [
    "from sklearn.svm import SVC"
   ]
  },
  {
   "cell_type": "code",
   "execution_count": 75,
   "metadata": {},
   "outputs": [],
   "source": [
    "C = 10\n",
    "model = SVC(kernel='rbf', gamma=0.1, C=C)"
   ]
  },
  {
   "cell_type": "code",
   "execution_count": 76,
   "metadata": {},
   "outputs": [
    {
     "data": {
      "text/plain": [
       "SVC(C=10, cache_size=200, class_weight=None, coef0=0.0,\n",
       "  decision_function_shape='ovr', degree=3, gamma=0.1, kernel='rbf',\n",
       "  max_iter=-1, probability=False, random_state=None, shrinking=True,\n",
       "  tol=0.001, verbose=False)"
      ]
     },
     "execution_count": 76,
     "metadata": {},
     "output_type": "execute_result"
    }
   ],
   "source": [
    "model.fit(X_train,y_train)"
   ]
  },
  {
   "cell_type": "code",
   "execution_count": 77,
   "metadata": {},
   "outputs": [],
   "source": [
    "pred = model.predict(X_test)"
   ]
  },
  {
   "cell_type": "code",
   "execution_count": 78,
   "metadata": {},
   "outputs": [],
   "source": [
    "from sklearn.metrics import classification_report,confusion_matrix"
   ]
  },
  {
   "cell_type": "code",
   "execution_count": 79,
   "metadata": {
    "scrolled": true
   },
   "outputs": [
    {
     "name": "stdout",
     "output_type": "stream",
     "text": [
      "[[129  11]\n",
      " [  2 175]]\n"
     ]
    }
   ],
   "source": [
    "print(confusion_matrix(y_test,pred))"
   ]
  },
  {
   "cell_type": "code",
   "execution_count": 1,
   "metadata": {},
   "outputs": [
    {
     "data": {
      "text/plain": [
       "95.89905362776025"
      ]
     },
     "execution_count": 1,
     "metadata": {},
     "output_type": "execute_result"
    }
   ],
   "source": [
    "(304 / 317)*100"
   ]
  },
  {
   "cell_type": "code",
   "execution_count": 18,
   "metadata": {},
   "outputs": [
    {
     "data": {
      "text/plain": [
       "Index(['X1_ActualPosition', 'X1_ActualVelocity', 'X1_ActualAcceleration',\n",
       "       'X1_CommandPosition', 'X1_CommandVelocity', 'X1_CommandAcceleration',\n",
       "       'X1_CurrentFeedback', 'X1_DCBusVoltage', 'X1_OutputCurrent',\n",
       "       'X1_OutputVoltage', 'X1_OutputPower', 'Y1_ActualPosition',\n",
       "       'Y1_ActualVelocity', 'Y1_ActualAcceleration', 'Y1_CommandPosition',\n",
       "       'Y1_CommandVelocity', 'Y1_CommandAcceleration', 'Y1_CurrentFeedback',\n",
       "       'Y1_DCBusVoltage', 'Y1_OutputCurrent', 'Y1_OutputVoltage',\n",
       "       'Y1_OutputPower', 'Z1_ActualPosition', 'Z1_ActualVelocity',\n",
       "       'Z1_ActualAcceleration', 'Z1_CommandPosition', 'Z1_CommandVelocity',\n",
       "       'Z1_CommandAcceleration', 'Z1_CurrentFeedback', 'Z1_DCBusVoltage',\n",
       "       'Z1_OutputCurrent', 'Z1_OutputVoltage', 'S1_ActualPosition',\n",
       "       'S1_ActualVelocity', 'S1_ActualAcceleration', 'S1_CommandPosition',\n",
       "       'S1_CommandVelocity', 'S1_CommandAcceleration', 'S1_CurrentFeedback',\n",
       "       'S1_DCBusVoltage', 'S1_OutputCurrent', 'S1_OutputVoltage',\n",
       "       'S1_OutputPower', 'S1_SystemInertia', 'M1_CURRENT_PROGRAM_NUMBER',\n",
       "       'M1_sequence_number', 'M1_CURRENT_FEEDRATE'],\n",
       "      dtype='object')"
      ]
     },
     "execution_count": 18,
     "metadata": {},
     "output_type": "execute_result"
    }
   ],
   "source": [
    "df_feat.columns"
   ]
  },
  {
   "cell_type": "code",
   "execution_count": 19,
   "metadata": {},
   "outputs": [],
   "source": [
    "from sklearn.externals import joblib"
   ]
  },
  {
   "cell_type": "code",
   "execution_count": 20,
   "metadata": {},
   "outputs": [
    {
     "data": {
      "text/plain": [
       "SVC(C=10, cache_size=200, class_weight=None, coef0=0.0,\n",
       "  decision_function_shape='ovr', degree=3, gamma=0.1, kernel='rbf',\n",
       "  max_iter=-1, probability=False, random_state=None, shrinking=True,\n",
       "  tol=0.001, verbose=False)"
      ]
     },
     "execution_count": 20,
     "metadata": {},
     "output_type": "execute_result"
    }
   ],
   "source": [
    "model"
   ]
  },
  {
   "cell_type": "code",
   "execution_count": 21,
   "metadata": {},
   "outputs": [
    {
     "data": {
      "text/plain": [
       "['svm_jl']"
      ]
     },
     "execution_count": 21,
     "metadata": {},
     "output_type": "execute_result"
    }
   ],
   "source": [
    "joblib.dump(model,'svm_jl')"
   ]
  },
  {
   "cell_type": "code",
   "execution_count": 22,
   "metadata": {},
   "outputs": [],
   "source": [
    "abc = joblib.load('svm_jl')"
   ]
  },
  {
   "cell_type": "code",
   "execution_count": null,
   "metadata": {},
   "outputs": [],
   "source": []
  },
  {
   "cell_type": "code",
   "execution_count": 23,
   "metadata": {},
   "outputs": [
    {
     "data": {
      "text/plain": [
       "array([1], dtype=int64)"
      ]
     },
     "execution_count": 23,
     "metadata": {},
     "output_type": "execute_result"
    }
   ],
   "source": [
    "new_test = np.array([[1.44E+02, \"1.50E-01\", 7.50E+01, 1.44E+02, 0.00E+00, 0.00E+00, -3.80E+00, 5.28E-02, 3.26E+02, 2.94E+00, 2.16E-05, 9.84E+01, -6.22E+00, 1.25E+01, 9.83E+01, -6.00E+00, 0.00E+00, -5.21E+00, 8.90E-02, 3.24E+02, 1.25E+01, 1.08E-03, 2.95E+01, 0.00E+00, 0.00E+00, 2.95E+01, 0.00E+00, 0.00E+00, 0.00E+00, 0.00E+00, 0.00E+00, 0.00E+00, 7.50E+02, 5.33E+01, -2.54E+01, 7.51E+02, 5.33E+01, -9.54E-07, 1.95E+01, 1.01E+00, 3.18E+02, 1.17E+02, 1.95E-01, 1.20E+01, 1.00E+00, 3.70E+01, 6.00E+00]])\n",
    "abc.predict(new_test)"
   ]
  },
  {
   "cell_type": "code",
   "execution_count": 280,
   "metadata": {},
   "outputs": [
    {
     "data": {
      "text/plain": [
       "{'X1_ActualPosition': '198.0',\n",
       " 'X1_ActualVelocity': '-10.8',\n",
       " 'X1_ActualAcceleration': '-350.00',\n",
       " 'X1_CommandPosition': '198.00',\n",
       " 'X1_CommandVelocity': '-13.6',\n",
       " 'X1_CommandAcceleration': '-358.000000',\n",
       " 'X1_CurrentFeedback': '-10.90',\n",
       " 'X1_DCBusVoltage': '0.1860',\n",
       " 'X1_OutputCurrent': '328.0',\n",
       " 'X1_OutputVoltage': '23.30',\n",
       " 'X1_OutputPower': '0.00448',\n",
       " 'Y1_ActualPosition': '158.00',\n",
       " 'Y1_ActualVelocity': '-19.80',\n",
       " 'Y1_ActualAcceleration': '-750.00',\n",
       " 'Y1_CommandPosition': '157.00',\n",
       " 'Y1_CommandVelocity': '-24.60',\n",
       " 'Y1_CommandAcceleration': '-647.00',\n",
       " 'Y1_CurrentFeedback': '-14.50',\n",
       " 'Y1_DCBusVoltage': '0.281',\n",
       " 'Y1_OutputCurrent': '325.00',\n",
       " 'Y1_OutputVoltage': '37.80',\n",
       " 'Y1_OutputPower': '0.0126',\n",
       " 'Z1_ActualPosition': '119.00',\n",
       " 'Z1_ActualVelocity': '-20.30',\n",
       " 'Z1_ActualAcceleration': '-712.00',\n",
       " 'Z1_CommandPosition': '118.00',\n",
       " 'Z1_CommandVelocity': '-25.60',\n",
       " 'Z1_CommandAcceleration': '-674.00',\n",
       " 'Z1_CurrentFeedback': '0',\n",
       " 'Z1_DCBusVoltage': '0',\n",
       " 'Z1_OutputCurrent': '0',\n",
       " 'Z1_OutputVoltage': '0',\n",
       " 'S1_ActualPosition': '-361.00',\n",
       " 'S1_ActualVelocity': '0',\n",
       " 'S1_ActualAcceleration': '0.25',\n",
       " 'S1_CommandPosition': '-361.00',\n",
       " 'S1_CommandVelocity': '0',\n",
       " 'S1_CommandAcceleration': '0',\n",
       " 'S1_CurrentFeedback': '-0.288',\n",
       " 'S1_DCBusVoltage': '2.740000e-19',\n",
       " 'S1_OutputCurrent': '328.00',\n",
       " 'S1_OutputVoltage': '0',\n",
       " 'S1_OutputPower': '6.960000e-07',\n",
       " 'S1_SystemInertia': '12.00',\n",
       " 'M1_CURRENT_PROGRAM_NUMBER': '1',\n",
       " 'M1_sequence_number': '4',\n",
       " 'M1_CURRENT_FEEDRATE': '5'}"
      ]
     },
     "execution_count": 280,
     "metadata": {},
     "output_type": "execute_result"
    }
   ],
   "source": [
    "file = open(r'C:\\Users\\Comp\\jsondemo.txt', 'r', encoding='utf-8')\n",
    "trial = json.load(file)\n",
    "file.close()\n",
    "trial"
   ]
  },
  {
   "cell_type": "code",
   "execution_count": 92,
   "metadata": {},
   "outputs": [],
   "source": [
    "\n",
    "url = 'http://127.0.0.1:9000/pred'\n",
    "\n",
    "\n"
   ]
  },
  {
   "cell_type": "code",
   "execution_count": 99,
   "metadata": {},
   "outputs": [],
   "source": [
    "data = json.dumps({\"X1_ActualPosition\":\"198.0\", \"X1_ActualVelocity\":\"-10.8\", \"X1_ActualAcceleration\":\"-350.00\", \"X1_CommandPosition\":\"198.00\", \"X1_CommandVelocity\":\"-13.6\", \"X1_CommandAcceleration\":\"-358.000000\", \"X1_CurrentFeedback\":\"-10.90\", \"X1_DCBusVoltage\":\"0.1860\", \"X1_OutputCurrent\":\"328.0\", \"X1_OutputVoltage\":\"23.30\", \"X1_OutputPower\":\"0.00448\", \"Y1_ActualPosition\":\"158.00\", \"Y1_ActualVelocity\":\"-19.80\", \"Y1_ActualAcceleration\":\"-750.00\", \"Y1_CommandPosition\":\"157.00\", \"Y1_CommandVelocity\":\"-24.60\", \"Y1_CommandAcceleration\":\"-647.00\", \"Y1_CurrentFeedback\":\"-14.50\", \"Y1_DCBusVoltage\":\"0.281\", \"Y1_OutputCurrent\":\"325.00\", \"Y1_OutputVoltage\":\"37.80\", \"Y1_OutputPower\":\"0.0126\", \"Z1_ActualPosition\":\"119.00\", \"Z1_ActualVelocity\":\"-20.30\", \"Z1_ActualAcceleration\":\"-712.00\", \"Z1_CommandPosition\":\"118.00\", \"Z1_CommandVelocity\":\"-25.60\", \"Z1_CommandAcceleration\":\"-674.00\", \"Z1_CurrentFeedback\":\"0\", \"Z1_DCBusVoltage\":\"0\", \"Z1_OutputCurrent\":\"0\", \"Z1_OutputVoltage\":\"0\", \"S1_ActualPosition\":\"-361.00\", \"S1_ActualVelocity\":\"0\", \"S1_ActualAcceleration\":\"0.25\", \"S1_CommandPosition\":\"-361.00\", \"S1_CommandVelocity\":\"0\", \"S1_CommandAcceleration\":\"0\", \"S1_CurrentFeedback\":\"-0.288\", \"S1_DCBusVoltage\":\"2.740000e-19\", \"S1_OutputCurrent\":\"328.00\", \"S1_OutputVoltage\":\"0\", \"S1_OutputPower\":\"6.960000e-07\", \"S1_SystemInertia\":\"12.00\", \"M1_CURRENT_PROGRAM_NUMBER\":\"1\", \"M1_sequence_number\":\"4\", \"M1_CURRENT_FEEDRATE\":\"5\"})"
   ]
  },
  {
   "cell_type": "code",
   "execution_count": 100,
   "metadata": {},
   "outputs": [],
   "source": [
    "r = requests.post(url, data)"
   ]
  },
  {
   "cell_type": "code",
   "execution_count": 97,
   "metadata": {},
   "outputs": [
    {
     "ename": "JSONDecodeError",
     "evalue": "Expecting value: line 1 column 1 (char 0)",
     "output_type": "error",
     "traceback": [
      "\u001b[1;31m---------------------------------------------------------------------------\u001b[0m",
      "\u001b[1;31mJSONDecodeError\u001b[0m                           Traceback (most recent call last)",
      "\u001b[1;32m<ipython-input-97-bff56710cddc>\u001b[0m in \u001b[0;36m<module>\u001b[1;34m\u001b[0m\n\u001b[1;32m----> 1\u001b[1;33m \u001b[0mxas\u001b[0m \u001b[1;33m=\u001b[0m \u001b[0mnp\u001b[0m\u001b[1;33m.\u001b[0m\u001b[0marray\u001b[0m\u001b[1;33m(\u001b[0m\u001b[0mr\u001b[0m\u001b[1;33m.\u001b[0m\u001b[0mjson\u001b[0m\u001b[1;33m(\u001b[0m\u001b[1;33m)\u001b[0m\u001b[1;33m)\u001b[0m\u001b[1;33m\u001b[0m\u001b[1;33m\u001b[0m\u001b[0m\n\u001b[0m",
      "\u001b[1;32mD:\\Anaconda\\lib\\site-packages\\requests\\models.py\u001b[0m in \u001b[0;36mjson\u001b[1;34m(self, **kwargs)\u001b[0m\n\u001b[0;32m    895\u001b[0m                     \u001b[1;31m# used.\u001b[0m\u001b[1;33m\u001b[0m\u001b[1;33m\u001b[0m\u001b[1;33m\u001b[0m\u001b[0m\n\u001b[0;32m    896\u001b[0m                     \u001b[1;32mpass\u001b[0m\u001b[1;33m\u001b[0m\u001b[1;33m\u001b[0m\u001b[0m\n\u001b[1;32m--> 897\u001b[1;33m         \u001b[1;32mreturn\u001b[0m \u001b[0mcomplexjson\u001b[0m\u001b[1;33m.\u001b[0m\u001b[0mloads\u001b[0m\u001b[1;33m(\u001b[0m\u001b[0mself\u001b[0m\u001b[1;33m.\u001b[0m\u001b[0mtext\u001b[0m\u001b[1;33m,\u001b[0m \u001b[1;33m**\u001b[0m\u001b[0mkwargs\u001b[0m\u001b[1;33m)\u001b[0m\u001b[1;33m\u001b[0m\u001b[1;33m\u001b[0m\u001b[0m\n\u001b[0m\u001b[0;32m    898\u001b[0m \u001b[1;33m\u001b[0m\u001b[0m\n\u001b[0;32m    899\u001b[0m     \u001b[1;33m@\u001b[0m\u001b[0mproperty\u001b[0m\u001b[1;33m\u001b[0m\u001b[1;33m\u001b[0m\u001b[0m\n",
      "\u001b[1;32mD:\\Anaconda\\lib\\json\\__init__.py\u001b[0m in \u001b[0;36mloads\u001b[1;34m(s, encoding, cls, object_hook, parse_float, parse_int, parse_constant, object_pairs_hook, **kw)\u001b[0m\n\u001b[0;32m    346\u001b[0m             \u001b[0mparse_int\u001b[0m \u001b[1;32mis\u001b[0m \u001b[1;32mNone\u001b[0m \u001b[1;32mand\u001b[0m \u001b[0mparse_float\u001b[0m \u001b[1;32mis\u001b[0m \u001b[1;32mNone\u001b[0m \u001b[1;32mand\u001b[0m\u001b[1;33m\u001b[0m\u001b[1;33m\u001b[0m\u001b[0m\n\u001b[0;32m    347\u001b[0m             parse_constant is None and object_pairs_hook is None and not kw):\n\u001b[1;32m--> 348\u001b[1;33m         \u001b[1;32mreturn\u001b[0m \u001b[0m_default_decoder\u001b[0m\u001b[1;33m.\u001b[0m\u001b[0mdecode\u001b[0m\u001b[1;33m(\u001b[0m\u001b[0ms\u001b[0m\u001b[1;33m)\u001b[0m\u001b[1;33m\u001b[0m\u001b[1;33m\u001b[0m\u001b[0m\n\u001b[0m\u001b[0;32m    349\u001b[0m     \u001b[1;32mif\u001b[0m \u001b[0mcls\u001b[0m \u001b[1;32mis\u001b[0m \u001b[1;32mNone\u001b[0m\u001b[1;33m:\u001b[0m\u001b[1;33m\u001b[0m\u001b[1;33m\u001b[0m\u001b[0m\n\u001b[0;32m    350\u001b[0m         \u001b[0mcls\u001b[0m \u001b[1;33m=\u001b[0m \u001b[0mJSONDecoder\u001b[0m\u001b[1;33m\u001b[0m\u001b[1;33m\u001b[0m\u001b[0m\n",
      "\u001b[1;32mD:\\Anaconda\\lib\\json\\decoder.py\u001b[0m in \u001b[0;36mdecode\u001b[1;34m(self, s, _w)\u001b[0m\n\u001b[0;32m    335\u001b[0m \u001b[1;33m\u001b[0m\u001b[0m\n\u001b[0;32m    336\u001b[0m         \"\"\"\n\u001b[1;32m--> 337\u001b[1;33m         \u001b[0mobj\u001b[0m\u001b[1;33m,\u001b[0m \u001b[0mend\u001b[0m \u001b[1;33m=\u001b[0m \u001b[0mself\u001b[0m\u001b[1;33m.\u001b[0m\u001b[0mraw_decode\u001b[0m\u001b[1;33m(\u001b[0m\u001b[0ms\u001b[0m\u001b[1;33m,\u001b[0m \u001b[0midx\u001b[0m\u001b[1;33m=\u001b[0m\u001b[0m_w\u001b[0m\u001b[1;33m(\u001b[0m\u001b[0ms\u001b[0m\u001b[1;33m,\u001b[0m \u001b[1;36m0\u001b[0m\u001b[1;33m)\u001b[0m\u001b[1;33m.\u001b[0m\u001b[0mend\u001b[0m\u001b[1;33m(\u001b[0m\u001b[1;33m)\u001b[0m\u001b[1;33m)\u001b[0m\u001b[1;33m\u001b[0m\u001b[1;33m\u001b[0m\u001b[0m\n\u001b[0m\u001b[0;32m    338\u001b[0m         \u001b[0mend\u001b[0m \u001b[1;33m=\u001b[0m \u001b[0m_w\u001b[0m\u001b[1;33m(\u001b[0m\u001b[0ms\u001b[0m\u001b[1;33m,\u001b[0m \u001b[0mend\u001b[0m\u001b[1;33m)\u001b[0m\u001b[1;33m.\u001b[0m\u001b[0mend\u001b[0m\u001b[1;33m(\u001b[0m\u001b[1;33m)\u001b[0m\u001b[1;33m\u001b[0m\u001b[1;33m\u001b[0m\u001b[0m\n\u001b[0;32m    339\u001b[0m         \u001b[1;32mif\u001b[0m \u001b[0mend\u001b[0m \u001b[1;33m!=\u001b[0m \u001b[0mlen\u001b[0m\u001b[1;33m(\u001b[0m\u001b[0ms\u001b[0m\u001b[1;33m)\u001b[0m\u001b[1;33m:\u001b[0m\u001b[1;33m\u001b[0m\u001b[1;33m\u001b[0m\u001b[0m\n",
      "\u001b[1;32mD:\\Anaconda\\lib\\json\\decoder.py\u001b[0m in \u001b[0;36mraw_decode\u001b[1;34m(self, s, idx)\u001b[0m\n\u001b[0;32m    353\u001b[0m             \u001b[0mobj\u001b[0m\u001b[1;33m,\u001b[0m \u001b[0mend\u001b[0m \u001b[1;33m=\u001b[0m \u001b[0mself\u001b[0m\u001b[1;33m.\u001b[0m\u001b[0mscan_once\u001b[0m\u001b[1;33m(\u001b[0m\u001b[0ms\u001b[0m\u001b[1;33m,\u001b[0m \u001b[0midx\u001b[0m\u001b[1;33m)\u001b[0m\u001b[1;33m\u001b[0m\u001b[1;33m\u001b[0m\u001b[0m\n\u001b[0;32m    354\u001b[0m         \u001b[1;32mexcept\u001b[0m \u001b[0mStopIteration\u001b[0m \u001b[1;32mas\u001b[0m \u001b[0merr\u001b[0m\u001b[1;33m:\u001b[0m\u001b[1;33m\u001b[0m\u001b[1;33m\u001b[0m\u001b[0m\n\u001b[1;32m--> 355\u001b[1;33m             \u001b[1;32mraise\u001b[0m \u001b[0mJSONDecodeError\u001b[0m\u001b[1;33m(\u001b[0m\u001b[1;34m\"Expecting value\"\u001b[0m\u001b[1;33m,\u001b[0m \u001b[0ms\u001b[0m\u001b[1;33m,\u001b[0m \u001b[0merr\u001b[0m\u001b[1;33m.\u001b[0m\u001b[0mvalue\u001b[0m\u001b[1;33m)\u001b[0m \u001b[1;32mfrom\u001b[0m \u001b[1;32mNone\u001b[0m\u001b[1;33m\u001b[0m\u001b[1;33m\u001b[0m\u001b[0m\n\u001b[0m\u001b[0;32m    356\u001b[0m         \u001b[1;32mreturn\u001b[0m \u001b[0mobj\u001b[0m\u001b[1;33m,\u001b[0m \u001b[0mend\u001b[0m\u001b[1;33m\u001b[0m\u001b[1;33m\u001b[0m\u001b[0m\n",
      "\u001b[1;31mJSONDecodeError\u001b[0m: Expecting value: line 1 column 1 (char 0)"
     ]
    }
   ],
   "source": [
    "xas = np.array(r.json())"
   ]
  },
  {
   "cell_type": "code",
   "execution_count": null,
   "metadata": {},
   "outputs": [],
   "source": []
  }
 ],
 "metadata": {
  "kernelspec": {
   "display_name": "Python 3",
   "language": "python",
   "name": "python3"
  },
  "language_info": {
   "codemirror_mode": {
    "name": "ipython",
    "version": 3
   },
   "file_extension": ".py",
   "mimetype": "text/x-python",
   "name": "python",
   "nbconvert_exporter": "python",
   "pygments_lexer": "ipython3",
   "version": "3.7.1"
  }
 },
 "nbformat": 4,
 "nbformat_minor": 2
}
